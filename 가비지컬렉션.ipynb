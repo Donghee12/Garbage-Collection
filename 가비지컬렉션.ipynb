{
 "cells": [
  {
   "cell_type": "markdown",
   "id": "b09ddbba-e961-4d34-ad2f-43f648b963b8",
   "metadata": {},
   "source": [
    "가비지 컬렉션이 제대로 동작하도록 코드를 작성하는 방법과 가비지 컬렉션으로 인해 메모리 누수가 발생할 수 있는 상황을 살펴보겠습니다.\n",
    "\n",
    "1.가비지 컬렉션이 제대로 동작하도록 코드 작성:\n",
    "\n",
    "참조 관리: 더 이상 사용하지 않는 객체에 대한 모든 참조를 명시적으로 제거해야 합니다. 이는 변수를 None으로 설정하거나 참조를 다른 객체로 대체하는 등의 방법을 사용하여 수행할 수 있습니다."
   ]
  },
  {
   "cell_type": "code",
   "execution_count": 1,
   "id": "da60d7a4-2c74-473d-a84d-71d4f69c06c5",
   "metadata": {},
   "outputs": [],
   "source": [
    "def example1():\n",
    "    obj = SomeClass()  # SomeClass 인스턴스 생성\n",
    "    # obj 사용\n",
    "    obj = None  # obj에 대한 참조 제거\n",
    "\n",
    "def example2():\n",
    "    obj1 = SomeClass()\n",
    "    obj2 = SomeClass()\n",
    "    obj1.other_obj = obj2\n",
    "    # obj1, obj2 사용\n",
    "    obj1.other_obj = None  # obj1과 obj2 사이의 참조 제거\n"
   ]
  },
  {
   "cell_type": "markdown",
   "id": "61b77c39-6725-46bd-9eec-db9efbaad6b4",
   "metadata": {},
   "source": [
    "2.가비지 컬렉션으로 인해 메모리 누수가 발생할 수 있는 상황:\n",
    "\n",
    "순환 참조: 객체들이 서로를 참조하고 있는 순환 구조를 형성하면 가비지 컬렉션에서 이들을 회수하지 못하고 메모리 누수가 발생합니다. \n",
    "\n",
    "이를 해결하기 위해서는 순환 참조를 끊을 수 있는 방법을 구현하거나 약한 참조(weak reference)를 사용해야 합니다."
   ]
  },
  {
   "cell_type": "code",
   "execution_count": 2,
   "id": "bd57a93a-0ad5-430b-bf4a-d9b5d431da66",
   "metadata": {},
   "outputs": [],
   "source": [
    "import weakref\n",
    "\n",
    "class Node:\n",
    "    def __init__(self, data):\n",
    "        self.data = data\n",
    "        self.next = None\n",
    "\n",
    "node1 = Node(1)\n",
    "node2 = Node(2)\n",
    "node1.next = node2\n",
    "node2.next = node1  # 순환 참조\n",
    "\n",
    "# 순환 참조를 끊지 않으면 가비지 컬렉션에서 node1, node2가 회수되지 않음\n",
    "\n",
    "# 순환 참조를 끊는 방법\n",
    "node1.next = None\n",
    "node2.next = None\n"
   ]
  },
  {
   "cell_type": "markdown",
   "id": "f7d2cf71-8ea9-4c98-903c-a9cc668fe622",
   "metadata": {},
   "source": [
    "위의 예시에서는 Node 클래스의 인스턴스인 node1과 node2가 서로를 참조하고 있는 순환 구조를 형성합니다. \n",
    "\n",
    "이 경우 가비지 컬렉션에서 이들을 회수하지 못하고 메모리 누수가 발생합니다. 순환 참조를 끊음으로써 가비지 컬렉션에서 이들을 회수할 수 있습니다.\n",
    "\n",
    "\n",
    "메모리 누수는 일반적으로 순환 참조와 같은 상황에서 발생하며, 이러한 상황에서는 객체 사이의 참조를 적절하게 관리하여 가비지 컬렉션의 동작을 보장해야 합니다."
   ]
  }
 ],
 "metadata": {
  "kernelspec": {
   "display_name": "anaconda-2022.05-py39",
   "language": "python",
   "name": "conda-env-anaconda-2022.05-py39-py"
  },
  "language_info": {
   "codemirror_mode": {
    "name": "ipython",
    "version": 3
   },
   "file_extension": ".py",
   "mimetype": "text/x-python",
   "name": "python",
   "nbconvert_exporter": "python",
   "pygments_lexer": "ipython3",
   "version": "3.9.12"
  }
 },
 "nbformat": 4,
 "nbformat_minor": 5
}
